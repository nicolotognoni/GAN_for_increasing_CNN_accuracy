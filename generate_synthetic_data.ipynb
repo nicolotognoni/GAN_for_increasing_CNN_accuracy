{
  "nbformat": 4,
  "nbformat_minor": 0,
  "metadata": {
    "colab": {
      "provenance": [],
      "machine_shape": "hm",
      "background_execution": "on"
    },
    "kernelspec": {
      "name": "python3",
      "display_name": "Python 3"
    },
    "language_info": {
      "name": "python"
    },
    "accelerator": "GPU"
  },
  "cells": [
    {
      "cell_type": "markdown",
      "source": [
        "#Mounting Google Drive"
      ],
      "metadata": {
        "id": "ssS1B_7vuPx2"
      }
    },
    {
      "cell_type": "code",
      "source": [
        "!pip uninstall --yes tensorflow\n",
        "!pip install tensorflow-gpu==1.14\n",
        "!apt install --allow-change-held-packages libcudnn7=7.4.1.5-1+cuda10.0"
      ],
      "metadata": {
        "id": "LEpQjG1d9VTV"
      },
      "execution_count": null,
      "outputs": []
    },
    {
      "cell_type": "code",
      "source": [
        "import tensorflow\n",
        "print(tensorflow.__version__)"
      ],
      "metadata": {
        "id": "KQmGfFQU9Z2A"
      },
      "execution_count": null,
      "outputs": []
    },
    {
      "cell_type": "code",
      "source": [
        "!nvidia-smi"
      ],
      "metadata": {
        "id": "AzS__jpJ9ZzY"
      },
      "execution_count": null,
      "outputs": []
    },
    {
      "cell_type": "code",
      "source": [
        "from google.colab import drive\n",
        "drive.mount('/content/drive')"
      ],
      "metadata": {
        "id": "KLYvFxFw9ZwD"
      },
      "execution_count": null,
      "outputs": []
    },
    {
      "cell_type": "code",
      "source": [
        "import os\n",
        "if os.path.isdir(\"/content/drive/My Drive/colab-sg2-ada\"):\n",
        "    %cd \"/content/drive/My Drive/colab-sg2-ada/stylegan2-ada\"\n",
        "else:\n",
        "    #install script\n",
        "    %cd \"/content/drive/My Drive/\"\n",
        "    !mkdir colab-sg2-ada\n",
        "    %cd colab-sg2-ada\n",
        "    !git clone https://github.com/NVlabs/stylegan2-ada\n",
        "    %cd stylegan2-ada\n",
        "    !mkdir downloads\n",
        "    !mkdir datasets"
      ],
      "metadata": {
        "id": "TZDxcU9Q9fmf"
      },
      "execution_count": null,
      "outputs": []
    },
    {
      "cell_type": "markdown",
      "source": [
        "#Models"
      ],
      "metadata": {
        "id": "Wz-qkC-DmrEv"
      }
    },
    {
      "cell_type": "markdown",
      "source": [
        "##Create synthetic data "
      ],
      "metadata": {
        "id": "mkjBD9aXVXXN"
      }
    },
    {
      "cell_type": "code",
      "execution_count": null,
      "metadata": {
        "id": "-RRwh8LqVXXa"
      },
      "outputs": [],
      "source": [
        "!python generate.py --outdir=/content/drive/MyDrive/Fake_Data_StyleGAN2_ADA/FakeData_train_3k/Airplane_3k --trunc=1 --seeds=0-4999 --network=/content/drive/MyDrive/GAN_Models_Pretrained/Gan_3k/airplane_3k/network-snapshot-000860.pkl"
      ]
    }
  ]
}