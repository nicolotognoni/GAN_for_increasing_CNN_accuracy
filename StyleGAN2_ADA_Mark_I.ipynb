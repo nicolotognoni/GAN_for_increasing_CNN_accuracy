{
  "cells": [
    {
      "cell_type": "markdown",
      "metadata": {
        "id": "l27vuqSRGzIX"
      },
      "source": [
        "# Loading TF and GDrive"
      ]
    },
    {
      "cell_type": "code",
      "execution_count": null,
      "metadata": {
        "id": "lsbQIEoIAFft"
      },
      "outputs": [],
      "source": [
        "!pip uninstall --yes tensorflow\n",
        "!pip install tensorflow-gpu==1.14\n",
        "!apt install --allow-change-held-packages libcudnn7=7.4.1.5-1+cuda10.0"
      ]
    },
    {
      "cell_type": "code",
      "execution_count": null,
      "metadata": {
        "id": "XHnCpVsdAOyY"
      },
      "outputs": [],
      "source": [
        "import tensorflow\n",
        "print(tensorflow.__version__)"
      ]
    },
    {
      "cell_type": "code",
      "execution_count": null,
      "metadata": {
        "id": "aT9095ohBon-"
      },
      "outputs": [],
      "source": [
        "!nvidia-smi"
      ]
    },
    {
      "cell_type": "code",
      "execution_count": null,
      "metadata": {
        "id": "6dJeu-G6Bpv1"
      },
      "outputs": [],
      "source": [
        "from google.colab import drive\n",
        "drive.mount('/content/drive')"
      ]
    },
    {
      "cell_type": "code",
      "execution_count": null,
      "metadata": {
        "id": "3BDqhe-oBrmp"
      },
      "outputs": [],
      "source": [
        "import os\n",
        "if os.path.isdir(\"/content/drive/My Drive/colab-sg2-ada\"):\n",
        "    %cd \"/content/drive/My Drive/colab-sg2-ada/stylegan2-ada\"\n",
        "else:\n",
        "    #install script\n",
        "    %cd \"/content/drive/My Drive/\"\n",
        "    !mkdir colab-sg2-ada\n",
        "    %cd colab-sg2-ada\n",
        "    !git clone https://github.com/NVlabs/stylegan2-ada\n",
        "    %cd stylegan2-ada\n",
        "    !mkdir downloads\n",
        "    !mkdir datasets"
      ]
    },
    {
      "cell_type": "markdown",
      "metadata": {
        "id": "e0vV_WpuGs1L"
      },
      "source": [
        "# Creating TFRecords Dataset"
      ]
    },
    {
      "cell_type": "code",
      "execution_count": null,
      "metadata": {
        "id": "sH0fXnR-bO9H"
      },
      "outputs": [],
      "source": [
        "# creating custom TFRecords dataset\n",
        "# first argument is output and second arg is path to dataset\n",
        "\n",
        "#the division of the dataset you're currently training (es. train_40k_10k)\n",
        "dataset_division='train_30k_20k'\n",
        "\n",
        "#the dataset name used when creating the .tfrecords file\n",
        "dataset_name = \"bird_3k\"\n",
        "\n",
        "\n",
        "cmd = f\"/usr/bin/python3 dataset_tool.py create_from_images /content/drive/MyDrive/colab-sg2-ada/stylegan2-ada/datasets/CIFAR10_dataset/CIFAR10_Dataset_tfrecords/{dataset_division}/{dataset_name} /content/drive/MyDrive/colab-sg2-ada/stylegan2-ada/datasets/CIFAR10_dataset/{dataset_division}/{dataset_name}\"\n",
        "!{cmd} "
      ]
    },
    {
      "cell_type": "markdown",
      "metadata": {
        "id": "myIMbwr_GpZP"
      },
      "source": [
        "# StyleGAN2-ADA"
      ]
    },
    {
      "cell_type": "code",
      "execution_count": null,
      "metadata": {
        "colab": {
          "background_save": true
        },
        "id": "7P3H5O42C6Cy"
      },
      "outputs": [],
      "source": [
        "#the division of the dataset you're currently training (es. train_40k_10k)\n",
        "dataset_division='train_30k_20k'\n",
        "#the dataset name used when creating the .tfrecords file\n",
        "dataset_name = \"cat_3k\"\n",
        "#output dataset\n",
        "dataset_output_results = \"CIFAR10_train_30k_20k\"\n",
        "\n",
        "#how often should the model generate samples and a .pkl file\n",
        "snapshot_count = 25\n",
        "#should the images be mirrored left to right?\n",
        "mirrored = True\n",
        "#metrics? \n",
        "metric_list = None\n",
        "#augments\n",
        "augs = \"bg\"\n",
        "\n",
        "# resuming? get the path to your latest .pkl file and use that\n",
        "#resume_from = \"/content/drive/MyDrive/colab-sg2-ada/stylegan2-ada/results/CIFAR10_train_30k_20k/automobile_3k/00000-automobile_3k-mirror-auto1/network-snapshot-000409.pkl\"\n",
        "\n",
        "# train \n",
        "cmd= f\"/usr/bin/python3 train.py --outdir /content/drive/MyDrive/colab-sg2-ada/stylegan2-ada/results/{dataset_output_results}/{dataset_name} --snap={snapshot_count} --data=/content/drive/MyDrive/colab-sg2-ada/stylegan2-ada/datasets/CIFAR10_dataset/CIFAR10_Dataset_tfrecords/{dataset_division}/{dataset_name} --metrics=None --mirror={mirrored} \" # --resume={resume_from}\"\n",
        "!{cmd}"
      ]
    }
  ],
  "metadata": {
    "accelerator": "GPU",
    "colab": {
      "background_execution": "on",
      "collapsed_sections": [],
      "machine_shape": "hm",
      "provenance": []
    },
    "gpuClass": "standard",
    "kernelspec": {
      "display_name": "Python 3",
      "name": "python3"
    },
    "language_info": {
      "name": "python"
    }
  },
  "nbformat": 4,
  "nbformat_minor": 0
}