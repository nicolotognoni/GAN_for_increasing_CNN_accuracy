{
  "cells": [
    {
      "cell_type": "markdown",
      "metadata": {
        "id": "reyZc2FL4Hva"
      },
      "source": [
        "# CNN"
      ]
    },
    {
      "cell_type": "markdown",
      "metadata": {
        "id": "L3Fx0ul54Hvb"
      },
      "source": [
        "## Loading the data\n",
        "\n",
        "We loaded the data directly from Google Drive so we have to import drive from google.colab"
      ]
    },
    {
      "cell_type": "code",
      "execution_count": null,
      "metadata": {
        "id": "vqSnSGKt4Hvb"
      },
      "outputs": [],
      "source": [
        "from IPython.core.interactiveshell import InteractiveShell\n",
        "InteractiveShell.ast_node_interactivity = \"all\""
      ]
    },
    {
      "cell_type": "code",
      "execution_count": null,
      "metadata": {
        "id": "KYZSUgDb4Hvb"
      },
      "outputs": [],
      "source": [
        "from google.colab import drive\n",
        "drive.mount('/content/drive')"
      ]
    },
    {
      "cell_type": "code",
      "execution_count": null,
      "metadata": {
        "id": "4WxLKb0v4Hvb"
      },
      "outputs": [],
      "source": [
        "import os\n",
        "import tensorflow as tf\n",
        "import numpy as np\n",
        "\n",
        "# Set the seed for random operations. \n",
        "# This let our experiments to be reproducible. \n",
        "SEED = 1234\n",
        "tf.random.set_seed(SEED)  "
      ]
    },
    {
      "cell_type": "code",
      "execution_count": null,
      "metadata": {
        "id": "6GhbVncs4Hvc"
      },
      "outputs": [],
      "source": [
        "# ImageDataGenerator\n",
        "# ------------------\n",
        "\n",
        "from tensorflow.keras.preprocessing.image import ImageDataGenerator\n",
        "\n",
        "train_data_gen = ImageDataGenerator(rescale=1./255)\n",
        "valid_data_gen = ImageDataGenerator(rescale=1./255)\n",
        "test_data_gen = ImageDataGenerator(rescale=1./255)"
      ]
    },
    {
      "cell_type": "code",
      "execution_count": null,
      "metadata": {
        "colab": {
          "base_uri": "https://localhost:8080/"
        },
        "id": "bAHC4Thm4Hvc",
        "outputId": "29bcdbb1-3eff-413f-f406-bbd53542ee3f"
      },
      "outputs": [
        {
          "name": "stdout",
          "output_type": "stream",
          "text": [
            "Found 20096 images belonging to 5 classes.\n",
            "Found 5040 images belonging to 5 classes.\n",
            "Found 5010 images belonging to 5 classes.\n"
          ]
        }
      ],
      "source": [
        "# Create generators to read images from dataset directory\n",
        "# -------------------------------------------------------\n",
        "\n",
        "# img\n",
        "\n",
        "# Batch size\n",
        "bs = 64\n",
        "\n",
        "# img shape\n",
        "img_h = 32\n",
        "img_w = 32\n",
        "\n",
        "num_classes=5\n",
        "\n",
        "# Training\n",
        "training_dir = '/content/drive/MyDrive/colab-sg2-ada/stylegan2-ada/datasets/CIFAR10_dataset/train_40k_10k/train_4k'\n",
        "train_gen = train_data_gen.flow_from_directory(training_dir,\n",
        "                                               target_size = (32, 32),\n",
        "                                               color_mode='rgb',\n",
        "                                               batch_size=bs, \n",
        "                                               class_mode='categorical',\n",
        "                                               shuffle=True,\n",
        "                                               seed=SEED)  # targets are directly converted into one-hot vectors\n",
        "\n",
        "# Validation\n",
        "validation_dir = '/content/drive/MyDrive/CIFAR10_CNN_validations/Val_4k_1k'\n",
        "valid_gen = valid_data_gen.flow_from_directory(validation_dir,\n",
        "                                               target_size = (32, 32),\n",
        "                                               color_mode='rgb',\n",
        "                                               batch_size=bs, \n",
        "                                               class_mode='categorical',\n",
        "                                               shuffle=False,\n",
        "                                               seed=SEED)\n",
        "\n",
        "\n",
        "# Test\n",
        "test_dir = '/content/drive/MyDrive/colab-sg2-ada/stylegan2-ada/datasets/CIFAR10_dataset/test/test_5k'\n",
        "test_gen = test_data_gen.flow_from_directory(test_dir,\n",
        "                                             target_size = (32, 32),\n",
        "                                             color_mode='rgb',\n",
        "                                             batch_size=bs, \n",
        "                                             class_mode='categorical',\n",
        "                                             shuffle=False,\n",
        "                                             seed=SEED)\n"
      ]
    },
    {
      "cell_type": "code",
      "execution_count": null,
      "metadata": {
        "id": "F9A_OdJp4Hvc"
      },
      "outputs": [],
      "source": [
        "# Create Dataset objects\n",
        "# ----------------------\n",
        "\n",
        "# Training\n",
        "train_dataset = tf.data.Dataset.from_generator(lambda: train_gen,\n",
        "                                               output_types=(tf.float32, tf.float32),\n",
        "                                               output_shapes=([None, 32, 32, 3], [None, 5]))\n",
        "\n",
        "# Repeat\n",
        "train_dataset = train_dataset.repeat()\n",
        "\n",
        "# Validation\n",
        "# ----------\n",
        "valid_dataset = tf.data.Dataset.from_generator(lambda: valid_gen, \n",
        "                                               output_types=(tf.float32, tf.float32),\n",
        "                                               output_shapes=([None, 32, 32, 3], [None, 5]))\n",
        "\n",
        "# Repeat\n",
        "valid_dataset = valid_dataset.repeat()\n",
        "\n",
        "\n",
        "# Test\n",
        "# ----\n",
        "test_dataset = tf.data.Dataset.from_generator(lambda: test_gen,\n",
        "                                              output_types=(tf.float32, tf.float32),\n",
        "                                              output_shapes=([None, 32, 32, 3], [None, 5]))"
      ]
    },
    {
      "cell_type": "markdown",
      "metadata": {
        "id": "2Q0is9rC4Hvd"
      },
      "source": [
        "## CNN Model"
      ]
    },
    {
      "cell_type": "code",
      "execution_count": null,
      "metadata": {
        "colab": {
          "base_uri": "https://localhost:8080/"
        },
        "id": "GChjEAv74Hvd",
        "outputId": "ade4fbbc-c96c-457c-b6db-e8c780fe9487"
      },
      "outputs": [
        {
          "name": "stdout",
          "output_type": "stream",
          "text": [
            "Model: \"sequential\"\n",
            "_________________________________________________________________\n",
            " Layer (type)                Output Shape              Param #   \n",
            "=================================================================\n",
            " conv2d (Conv2D)             (None, 32, 32, 32)        896       \n",
            "                                                                 \n",
            " re_lu (ReLU)                (None, 32, 32, 32)        0         \n",
            "                                                                 \n",
            " batch_normalization (BatchN  (None, 32, 32, 32)       128       \n",
            " ormalization)                                                   \n",
            "                                                                 \n",
            " conv2d_1 (Conv2D)           (None, 32, 32, 32)        9248      \n",
            "                                                                 \n",
            " re_lu_1 (ReLU)              (None, 32, 32, 32)        0         \n",
            "                                                                 \n",
            " batch_normalization_1 (Batc  (None, 32, 32, 32)       128       \n",
            " hNormalization)                                                 \n",
            "                                                                 \n",
            " max_pooling2d (MaxPooling2D  (None, 16, 16, 32)       0         \n",
            " )                                                               \n",
            "                                                                 \n",
            " conv2d_2 (Conv2D)           (None, 16, 16, 64)        18496     \n",
            "                                                                 \n",
            " re_lu_2 (ReLU)              (None, 16, 16, 64)        0         \n",
            "                                                                 \n",
            " batch_normalization_2 (Batc  (None, 16, 16, 64)       256       \n",
            " hNormalization)                                                 \n",
            "                                                                 \n",
            " conv2d_3 (Conv2D)           (None, 16, 16, 64)        36928     \n",
            "                                                                 \n",
            " re_lu_3 (ReLU)              (None, 16, 16, 64)        0         \n",
            "                                                                 \n",
            " batch_normalization_3 (Batc  (None, 16, 16, 64)       256       \n",
            " hNormalization)                                                 \n",
            "                                                                 \n",
            " max_pooling2d_1 (MaxPooling  (None, 8, 8, 64)         0         \n",
            " 2D)                                                             \n",
            "                                                                 \n",
            " conv2d_4 (Conv2D)           (None, 8, 8, 128)         73856     \n",
            "                                                                 \n",
            " re_lu_4 (ReLU)              (None, 8, 8, 128)         0         \n",
            "                                                                 \n",
            " batch_normalization_4 (Batc  (None, 8, 8, 128)        512       \n",
            " hNormalization)                                                 \n",
            "                                                                 \n",
            " conv2d_5 (Conv2D)           (None, 8, 8, 128)         147584    \n",
            "                                                                 \n",
            " re_lu_5 (ReLU)              (None, 8, 8, 128)         0         \n",
            "                                                                 \n",
            " batch_normalization_5 (Batc  (None, 8, 8, 128)        512       \n",
            " hNormalization)                                                 \n",
            "                                                                 \n",
            " max_pooling2d_2 (MaxPooling  (None, 4, 4, 128)        0         \n",
            " 2D)                                                             \n",
            "                                                                 \n",
            " flatten (Flatten)           (None, 2048)              0         \n",
            "                                                                 \n",
            " dropout (Dropout)           (None, 2048)              0         \n",
            "                                                                 \n",
            " dense (Dense)               (None, 1024)              2098176   \n",
            "                                                                 \n",
            " dropout_1 (Dropout)         (None, 1024)              0         \n",
            "                                                                 \n",
            " dense_1 (Dense)             (None, 5)                 5125      \n",
            "                                                                 \n",
            "=================================================================\n",
            "Total params: 2,392,101\n",
            "Trainable params: 2,391,205\n",
            "Non-trainable params: 896\n",
            "_________________________________________________________________\n"
          ]
        }
      ],
      "source": [
        "model_cnn = tf.keras.Sequential()\n",
        "\n",
        "model_cnn.add(tf.keras.layers.Conv2D(input_shape=(32, 32, 3),\n",
        "                                 filters=32,\n",
        "                                 kernel_size=(3, 3),        \n",
        "                                 strides=(1, 1), \n",
        "                                 padding='same'))\n",
        "model_cnn.add(tf.keras.layers.ReLU())\n",
        "model_cnn.add(tf.keras.layers.BatchNormalization())\n",
        "model_cnn.add(tf.keras.layers.Conv2D(input_shape=(32, 32, 3),\n",
        "                                 filters=32,\n",
        "                                 kernel_size=(3, 3),        \n",
        "                                 strides=(1, 1), \n",
        "                                 padding='same'))\n",
        "model_cnn.add(tf.keras.layers.ReLU())\n",
        "model_cnn.add(tf.keras.layers.BatchNormalization())\n",
        "model_cnn.add(tf.keras.layers.MaxPool2D(pool_size=(2, 2)))\n",
        "\n",
        "model_cnn.add(tf.keras.layers.Conv2D(filters=64,\n",
        "                                 kernel_size=(3, 3),\n",
        "                                 strides=(1, 1), \n",
        "                                 padding='same'))\n",
        "model_cnn.add(tf.keras.layers.ReLU())\n",
        "model_cnn.add(tf.keras.layers.BatchNormalization())\n",
        "model_cnn.add(tf.keras.layers.Conv2D(filters=64,\n",
        "                                 kernel_size=(3, 3),\n",
        "                                 strides=(1, 1), \n",
        "                                 padding='same'))\n",
        "model_cnn.add(tf.keras.layers.ReLU())\n",
        "model_cnn.add(tf.keras.layers.BatchNormalization())\n",
        "model_cnn.add(tf.keras.layers.MaxPool2D(pool_size=(2, 2)))\n",
        "\n",
        "model_cnn.add(tf.keras.layers.Conv2D(filters=128,\n",
        "                                 kernel_size=(3, 3),\n",
        "                                 strides=(1, 1), \n",
        "                                 padding='same'))\n",
        "model_cnn.add(tf.keras.layers.ReLU())\n",
        "model_cnn.add(tf.keras.layers.BatchNormalization())\n",
        "model_cnn.add(tf.keras.layers.Conv2D(filters=128,\n",
        "                                 kernel_size=(3, 3),\n",
        "                                 strides=(1, 1), \n",
        "                                 padding='same'))\n",
        "model_cnn.add(tf.keras.layers.ReLU())\n",
        "model_cnn.add(tf.keras.layers.BatchNormalization())\n",
        "model_cnn.add(tf.keras.layers.MaxPool2D(pool_size=(2, 2)))\n",
        "\n",
        "model_cnn.add(tf.keras.layers.Flatten())\n",
        "model_cnn.add(tf.keras.layers.Dropout(0.2))\n",
        "\n",
        "model_cnn.add(tf.keras.layers.Dense(units=1024, activation=tf.keras.activations.sigmoid))\n",
        "model_cnn.add(tf.keras.layers.Dropout(0.2)) \n",
        "\n",
        "model_cnn.add(tf.keras.layers.Dense(units=5, activation=tf.keras.activations.softmax))\n",
        "\n",
        "model_cnn.summary()"
      ]
    },
    {
      "cell_type": "code",
      "execution_count": null,
      "metadata": {
        "id": "-OmfhHWL4Hvd"
      },
      "outputs": [],
      "source": [
        "model_cnn.compile(optimizer='adam',loss=tf.keras.losses.CategoricalCrossentropy(from_logits=True), metrics = ['accuracy']) "
      ]
    },
    {
      "cell_type": "code",
      "execution_count": null,
      "metadata": {
        "colab": {
          "background_save": true
        },
        "id": "AfFy9l0M4Hve"
      },
      "outputs": [],
      "source": [
        "model_cnn.fit(\n",
        "    x = train_dataset,\n",
        "    epochs=150,\n",
        "    steps_per_epoch=int(np.ceil(train_gen.samples / bs)),\n",
        "    validation_data= valid_dataset,\n",
        "    validation_steps=int(np.ceil(valid_gen.samples / bs))\n",
        "    )"
      ]
    },
    {
      "cell_type": "code",
      "execution_count": null,
      "metadata": {
        "colab": {
          "background_save": true
        },
        "id": "iCqDnb-24Hve"
      },
      "outputs": [],
      "source": [
        "# Save the entire model as a SavedModel.\n",
        "model_cnn.save_weights('/content/drive/MyDrive/CNN_Models_results/CNN.h5')"
      ]
    }
  ],
  "metadata": {
    "accelerator": "GPU",
    "colab": {
      "background_execution": "on",
      "collapsed_sections": [],
      "provenance": []
    },
    "gpuClass": "standard",
    "kernelspec": {
      "display_name": "Python 3",
      "name": "python3"
    },
    "language_info": {
      "name": "python"
    }
  },
  "nbformat": 4,
  "nbformat_minor": 0
}